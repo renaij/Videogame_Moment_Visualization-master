{
 "cells": [
  {
   "cell_type": "code",
   "execution_count": 107,
   "metadata": {},
   "outputs": [
    {
     "name": "stdout",
     "output_type": "stream",
     "text": [
      "Populating the interactive namespace from numpy and matplotlib\n"
     ]
    }
   ],
   "source": [
    "%pylab inline\n",
    "from glob import glob\n",
    "import math\n",
    "from PIL import Image\n",
    "import json\n",
    "import sklearn.manifold\n",
    "import os\n",
    "\n",
    "def resize_to_power_of_two(nSize):\n",
    "    pos =  math.ceil(math.log2(nSize))  #(ceiling of log n with base 2)\n",
    "    p   = pow(2, pos) \n",
    "    return p\n",
    "\n",
    "def generate_spritesheet(fnames,photoSize,filename,positions,saveImage):\n",
    "    \"\"\"\\\n",
    "    Make a contact sheet from a group of filenames:\n",
    "\n",
    "    fnames       A list of names of the image files\n",
    "    \n",
    "    ncols        Number of columns in the contact sheet\n",
    "    nrows        Number of rows in the contact sheet\n",
    "    photow       The width of the photo thumbs in pixels\n",
    "    photoh       The height of the photo thumbs in pixels\n",
    "\n",
    "    returns a PIL image object.\n",
    "    \"\"\"\n",
    "\n",
    "    # Calculate the size of the output image, based on the photo thumb sizes\n",
    "    \n",
    "    totalNum = len(fnames)\n",
    "    \n",
    "    ncols = 64\n",
    "    nrows = math.ceil(totalNum/ncols)\n",
    "    \n",
    "    photow = photoSize[0]\n",
    "    phtoh = photoSize[1]\n",
    "   \n",
    "    \n",
    "    imgWidth = ncols*photow\n",
    "    imgHeight = nrows*photoh\n",
    "    \n",
    "    imgWidth_resized = resize_to_power_of_two(imgWidth)\n",
    "    imgHeight_resized = resize_to_power_of_two(imgHeight)\n",
    "    \n",
    "    isize = (imgWidth_resized,imgHeight_resized) # adapt to THREE\n",
    "\n",
    "    # Create the new image. The background doesn't have to be white\n",
    "    white = (0,0,0)\n",
    "    inew = Image.new('RGB',isize,white)\n",
    "    \n",
    "    # Create JSON file to store the UV position of each image\n",
    "    uvDict = {}\n",
    "    uvDict['rows'] = nrows\n",
    "    uvDict['columns'] = ncols\n",
    "    uvDict['totalCount'] = totalNum\n",
    "    uvDict['spriteWidth'] = photow\n",
    "    uvDict['spriteHeight'] = phtoh\n",
    "    count = 0\n",
    "    # Insert each thumb:\n",
    "    for irow in range(nrows):\n",
    "        for icol in range(ncols):\n",
    "            left = icol*(photow)\n",
    "            right = left + photow\n",
    "            upper = irow*(photoh)\n",
    "            lower = upper + photoh\n",
    "            bbox = (left,upper,right,lower)\n",
    "            try:\n",
    "                # Read in an image and resize appropriately\n",
    "                img = Image.open(fnames[count]).resize((photow,photoh))\n",
    "            except:\n",
    "                break\n",
    "            inew.paste(img,bbox)\n",
    "            if count not in uvDict.keys():\n",
    "                uvDict[count] = {}\n",
    "            uvDict[count]['filename'] = os.path.basename(fnames[count])\n",
    "            uvDict[count]['uvOffset_u'] = left/imgWidth\n",
    "            uvDict[count]['uvOffset_v'] = 1.0-lower/imgHeight_resized \n",
    "            uvDict[count]['uvRepeat_u'] = photow/imgWidth_resized\n",
    "            uvDict[count]['uvRepeat_v'] = photoh/imgHeight_resized\n",
    "            uvDict[count]['position'] = {}\n",
    "            uvDict[count]['position']['x'] = str(positions[count][0])\n",
    "            uvDict[count]['position']['y'] = str(positions[count][1])\n",
    "            if len(positions[count]) > 2:\n",
    "                uvDict[count]['position']['z'] = str(positions[count][2])\n",
    "            else:\n",
    "                uvDict[count]['position']['z'] = str(0.0)\n",
    "            count += 1\n",
    "    js = json.dumps(uvDict, indent=2)\n",
    "    f = open(filename + '.json', 'w')\n",
    "    f.write(js)\n",
    "    f.close()\n",
    "    if saveImage:\n",
    "        inew.save(filename)\n",
    "    return inew"
   ]
  },
  {
   "cell_type": "code",
   "execution_count": 110,
   "metadata": {},
   "outputs": [
    {
     "name": "stdout",
     "output_type": "stream",
     "text": [
      "(8980, 3)\r"
     ]
    }
   ],
   "source": [
    "gamedir = './pic/Super Mario World (USA)/'\n",
    "files = glob(gamedir + 'screenshots/*.png')\n",
    "files = sorted(files, key=lambda x: int(os.path.basename(x)[:-4]))\n",
    "\n",
    "embeddings = glob(gamedir + '/embeddings/*.npy')\n",
    "embeddings = sorted(embeddings, key=lambda x: int(os.path.basename(x)[:-4]))\n",
    "\n",
    "length = len(embeddings)\n",
    "\n",
    "states = zeros((length, 256))\n",
    "for i in range(len(states)):\n",
    "    states[i] = load(embeddings[i])\n",
    "    \n",
    "tsne = sklearn.manifold.TSNE(n_components=3, perplexity = 400)\n",
    "positions = tsne.fit_transform(states)\n",
    "print(positions.shape, end='\\r')\n",
    "\n",
    "photow,photoh = 64,56\n",
    "photoSize = (photow,photoh)\n",
    "filename = './pic/spritesheet_400.png'\n"
   ]
  },
  {
   "cell_type": "code",
   "execution_count": 111,
   "metadata": {},
   "outputs": [],
   "source": [
    "saveImage = False\n",
    "inew = generate_spritesheet(files,photoSize,filename,positions,saveImage)\n",
    "inew.show()"
   ]
  },
  {
   "cell_type": "code",
   "execution_count": 84,
   "metadata": {},
   "outputs": [
    {
     "data": {
      "text/plain": [
       "'./pic/Super Mario World (USA)//embeddings/10.npy'"
      ]
     },
     "execution_count": 84,
     "metadata": {},
     "output_type": "execute_result"
    }
   ],
   "source": [
    "embeddings[0]"
   ]
  },
  {
   "cell_type": "code",
   "execution_count": 88,
   "metadata": {},
   "outputs": [
    {
     "data": {
      "text/plain": [
       "(256,)"
      ]
     },
     "execution_count": 88,
     "metadata": {},
     "output_type": "execute_result"
    }
   ],
   "source": [
    "shape(states[0])"
   ]
  }
 ],
 "metadata": {
  "kernelspec": {
   "display_name": "Python 3",
   "language": "python",
   "name": "python3"
  },
  "language_info": {
   "codemirror_mode": {
    "name": "ipython",
    "version": 3
   },
   "file_extension": ".py",
   "mimetype": "text/x-python",
   "name": "python",
   "nbconvert_exporter": "python",
   "pygments_lexer": "ipython3",
   "version": "3.6.2rc2"
  }
 },
 "nbformat": 4,
 "nbformat_minor": 2
}
