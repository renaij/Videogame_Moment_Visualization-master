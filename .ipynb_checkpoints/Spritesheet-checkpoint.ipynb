{
 "cells": [
  {
   "cell_type": "code",
   "execution_count": 35,
   "metadata": {},
   "outputs": [
    {
     "name": "stdout",
     "output_type": "stream",
     "text": [
      "Populating the interactive namespace from numpy and matplotlib\n"
     ]
    }
   ],
   "source": [
    "%pylab inline\n",
    "from glob import glob\n",
    "import math\n",
    "from PIL import Image\n",
    "import json\n",
    "import sklearn.manifold\n",
    "import os\n",
    "\n",
    "def resize_to_power_of_two(nSize):\n",
    "    pos =  math.ceil(math.log2(nSize))  #(ceiling of log n with base 2)\n",
    "    p   = pow(2, pos) \n",
    "    return p\n",
    "\n",
    "def generate_spritesheet(fnames,photoSize,filename,positions):\n",
    "    \"\"\"\\\n",
    "    Make a contact sheet from a group of filenames:\n",
    "\n",
    "    fnames       A list of names of the image files\n",
    "    \n",
    "    ncols        Number of columns in the contact sheet\n",
    "    nrows        Number of rows in the contact sheet\n",
    "    photow       The width of the photo thumbs in pixels\n",
    "    photoh       The height of the photo thumbs in pixels\n",
    "\n",
    "    returns a PIL image object.\n",
    "    \"\"\"\n",
    "\n",
    "    # Calculate the size of the output image, based on the photo thumb sizes\n",
    "    \n",
    "    totalNum = len(fnames)\n",
    "    \n",
    "    ncols = 64\n",
    "    nrows = math.ceil(totalNum/ncols)\n",
    "    \n",
    "    photow = photoSize[0]\n",
    "    phtoh = photoSize[1]\n",
    "   \n",
    "    \n",
    "    imgWidth = ncols*photow\n",
    "    imgHeight = nrows*photoh\n",
    "    \n",
    "    imgWidth_resized = resize_to_power_of_two(imgWidth)\n",
    "    imgHeight_resized = resize_to_power_of_two(imgHeight)\n",
    "    \n",
    "    isize = (imgWidth_resized,imgHeight_resized) # adapt to THREE\n",
    "\n",
    "    # Create the new image. The background doesn't have to be white\n",
    "    white = (0,0,0)\n",
    "    inew = Image.new('RGB',isize,white)\n",
    "    \n",
    "    # Create JSON file to store the UV position of each image\n",
    "    uvDict = {}\n",
    "    uvDict['rows'] = nrows\n",
    "    uvDict['columns'] = ncols\n",
    "    uvDict['totalCount'] = totalNum\n",
    "    uvDict['spriteWidth'] = photow\n",
    "    uvDict['spriteHeight'] = phtoh\n",
    "    count = 0\n",
    "    # Insert each thumb:\n",
    "    for irow in range(nrows):\n",
    "        for icol in range(ncols):\n",
    "            left = icol*(photow)\n",
    "            right = left + photow\n",
    "            upper = irow*(photoh)\n",
    "            lower = upper + photoh\n",
    "            bbox = (left,upper,right,lower)\n",
    "            try:\n",
    "                # Read in an image and resize appropriately\n",
    "                img = Image.open(fnames[count]).resize((photow,photoh))\n",
    "            except:\n",
    "                break\n",
    "            inew.paste(img,bbox)\n",
    "            if count not in uvDict.keys():\n",
    "                uvDict[count] = {}\n",
    "            uvDict[count]['filename'] = os.path.basename(fnames[count])\n",
    "            uvDict[count]['uvOffset_u'] = left/imgWidth\n",
    "            uvDict[count]['uvOffset_v'] = 1.0-lower/imgHeight_resized \n",
    "            uvDict[count]['uvRepeat_u'] = photow/imgWidth_resized\n",
    "            uvDict[count]['uvRepeat_v'] = photoh/imgHeight_resized\n",
    "            uvDict[count]['position'] = {}\n",
    "            uvDict[count]['position']['x'] = str(positions[count][0])\n",
    "            uvDict[count]['position']['y'] = str(positions[count][1])\n",
    "            uvDict[count]['position']['z'] = str(positions[count][2])\n",
    "            count += 1\n",
    "    js = json.dumps(uvDict)\n",
    "    f = open(filename + '.json', 'w')\n",
    "    f.write(js)\n",
    "    f.close()\n",
    "    inew.save(filename)\n",
    "    return inew"
   ]
  },
  {
   "cell_type": "code",
   "execution_count": 33,
   "metadata": {},
   "outputs": [
    {
     "name": "stdout",
     "output_type": "stream",
     "text": [
      "(8980, 3)\r"
     ]
    }
   ],
   "source": [
    "gamedir = './pic/Super Mario World (USA)/'\n",
    "files = glob(gamedir + 'screenshots/*.png')\n",
    "files = sorted(files, key=lambda x: int(os.path.basename(x)[:-4]))\n",
    "\n",
    "embeddings = glob(gamedir + '/embeddings/*.npy')\n",
    "embeddings = sorted(embeddings, key=lambda x: int(os.path.basename(x)[:-4]))\n",
    "\n",
    "length = len(embeddings)\n",
    "\n",
    "states = zeros((length, 256))\n",
    "for i in range(len(states)):\n",
    "    states[i] = load(embeddings[i])\n",
    "    \n",
    "tsne = sklearn.manifold.TSNE(n_components=3)\n",
    "positions = tsne.fit_transform(states)\n",
    "print(positions.shape, end='\\r')\n",
    "\n",
    "photow,photoh = 64,56\n",
    "photoSize = (photow,photoh)\n",
    "filename = 'spritesheet0.png'\n"
   ]
  },
  {
   "cell_type": "code",
   "execution_count": 36,
   "metadata": {},
   "outputs": [
    {
     "ename": "TypeError",
     "evalue": "Object of type 'float32' is not JSON serializable",
     "output_type": "error",
     "traceback": [
      "\u001b[0;31m---------------------------------------------------------------------------\u001b[0m",
      "\u001b[0;31mTypeError\u001b[0m                                 Traceback (most recent call last)",
      "\u001b[0;32m<ipython-input-36-2f482efe2228>\u001b[0m in \u001b[0;36m<module>\u001b[0;34m()\u001b[0m\n\u001b[0;32m----> 1\u001b[0;31m \u001b[0minew\u001b[0m \u001b[0;34m=\u001b[0m \u001b[0mgenerate_spritesheet\u001b[0m\u001b[0;34m(\u001b[0m\u001b[0mfiles\u001b[0m\u001b[0;34m,\u001b[0m\u001b[0mphotoSize\u001b[0m\u001b[0;34m,\u001b[0m\u001b[0mfilename\u001b[0m\u001b[0;34m,\u001b[0m\u001b[0mpositions\u001b[0m\u001b[0;34m)\u001b[0m\u001b[0;34m\u001b[0m\u001b[0m\n\u001b[0m\u001b[1;32m      2\u001b[0m \u001b[0minew\u001b[0m\u001b[0;34m.\u001b[0m\u001b[0mshow\u001b[0m\u001b[0;34m(\u001b[0m\u001b[0;34m)\u001b[0m\u001b[0;34m\u001b[0m\u001b[0m\n",
      "\u001b[0;32m<ipython-input-35-86eddfb730b6>\u001b[0m in \u001b[0;36mgenerate_spritesheet\u001b[0;34m(fnames, photoSize, filename, positions)\u001b[0m\n\u001b[1;32m     82\u001b[0m             \u001b[0muvDict\u001b[0m\u001b[0;34m[\u001b[0m\u001b[0mcount\u001b[0m\u001b[0;34m]\u001b[0m\u001b[0;34m[\u001b[0m\u001b[0;34m'position'\u001b[0m\u001b[0;34m]\u001b[0m\u001b[0;34m[\u001b[0m\u001b[0;34m'z'\u001b[0m\u001b[0;34m]\u001b[0m \u001b[0;34m=\u001b[0m \u001b[0mpositions\u001b[0m\u001b[0;34m[\u001b[0m\u001b[0mcount\u001b[0m\u001b[0;34m]\u001b[0m\u001b[0;34m[\u001b[0m\u001b[0;36m2\u001b[0m\u001b[0;34m]\u001b[0m\u001b[0;34m\u001b[0m\u001b[0m\n\u001b[1;32m     83\u001b[0m             \u001b[0mcount\u001b[0m \u001b[0;34m+=\u001b[0m \u001b[0;36m1\u001b[0m\u001b[0;34m\u001b[0m\u001b[0m\n\u001b[0;32m---> 84\u001b[0;31m     \u001b[0mjs\u001b[0m \u001b[0;34m=\u001b[0m \u001b[0mjson\u001b[0m\u001b[0;34m.\u001b[0m\u001b[0mdumps\u001b[0m\u001b[0;34m(\u001b[0m\u001b[0muvDict\u001b[0m\u001b[0;34m)\u001b[0m\u001b[0;34m\u001b[0m\u001b[0m\n\u001b[0m\u001b[1;32m     85\u001b[0m     \u001b[0mf\u001b[0m \u001b[0;34m=\u001b[0m \u001b[0mopen\u001b[0m\u001b[0;34m(\u001b[0m\u001b[0mfilename\u001b[0m \u001b[0;34m+\u001b[0m \u001b[0;34m'.json'\u001b[0m\u001b[0;34m,\u001b[0m \u001b[0;34m'w'\u001b[0m\u001b[0;34m)\u001b[0m\u001b[0;34m\u001b[0m\u001b[0m\n\u001b[1;32m     86\u001b[0m     \u001b[0mf\u001b[0m\u001b[0;34m.\u001b[0m\u001b[0mwrite\u001b[0m\u001b[0;34m(\u001b[0m\u001b[0mjs\u001b[0m\u001b[0;34m)\u001b[0m\u001b[0;34m\u001b[0m\u001b[0m\n",
      "\u001b[0;32m/Library/Frameworks/Python.framework/Versions/3.6/lib/python3.6/json/__init__.py\u001b[0m in \u001b[0;36mdumps\u001b[0;34m(obj, skipkeys, ensure_ascii, check_circular, allow_nan, cls, indent, separators, default, sort_keys, **kw)\u001b[0m\n\u001b[1;32m    229\u001b[0m         \u001b[0mcls\u001b[0m \u001b[0;32mis\u001b[0m \u001b[0;32mNone\u001b[0m \u001b[0;32mand\u001b[0m \u001b[0mindent\u001b[0m \u001b[0;32mis\u001b[0m \u001b[0;32mNone\u001b[0m \u001b[0;32mand\u001b[0m \u001b[0mseparators\u001b[0m \u001b[0;32mis\u001b[0m \u001b[0;32mNone\u001b[0m \u001b[0;32mand\u001b[0m\u001b[0;34m\u001b[0m\u001b[0m\n\u001b[1;32m    230\u001b[0m         default is None and not sort_keys and not kw):\n\u001b[0;32m--> 231\u001b[0;31m         \u001b[0;32mreturn\u001b[0m \u001b[0m_default_encoder\u001b[0m\u001b[0;34m.\u001b[0m\u001b[0mencode\u001b[0m\u001b[0;34m(\u001b[0m\u001b[0mobj\u001b[0m\u001b[0;34m)\u001b[0m\u001b[0;34m\u001b[0m\u001b[0m\n\u001b[0m\u001b[1;32m    232\u001b[0m     \u001b[0;32mif\u001b[0m \u001b[0mcls\u001b[0m \u001b[0;32mis\u001b[0m \u001b[0;32mNone\u001b[0m\u001b[0;34m:\u001b[0m\u001b[0;34m\u001b[0m\u001b[0m\n\u001b[1;32m    233\u001b[0m         \u001b[0mcls\u001b[0m \u001b[0;34m=\u001b[0m \u001b[0mJSONEncoder\u001b[0m\u001b[0;34m\u001b[0m\u001b[0m\n",
      "\u001b[0;32m/Library/Frameworks/Python.framework/Versions/3.6/lib/python3.6/json/encoder.py\u001b[0m in \u001b[0;36mencode\u001b[0;34m(self, o)\u001b[0m\n\u001b[1;32m    197\u001b[0m         \u001b[0;31m# exceptions aren't as detailed.  The list call should be roughly\u001b[0m\u001b[0;34m\u001b[0m\u001b[0;34m\u001b[0m\u001b[0m\n\u001b[1;32m    198\u001b[0m         \u001b[0;31m# equivalent to the PySequence_Fast that ''.join() would do.\u001b[0m\u001b[0;34m\u001b[0m\u001b[0;34m\u001b[0m\u001b[0m\n\u001b[0;32m--> 199\u001b[0;31m         \u001b[0mchunks\u001b[0m \u001b[0;34m=\u001b[0m \u001b[0mself\u001b[0m\u001b[0;34m.\u001b[0m\u001b[0miterencode\u001b[0m\u001b[0;34m(\u001b[0m\u001b[0mo\u001b[0m\u001b[0;34m,\u001b[0m \u001b[0m_one_shot\u001b[0m\u001b[0;34m=\u001b[0m\u001b[0;32mTrue\u001b[0m\u001b[0;34m)\u001b[0m\u001b[0;34m\u001b[0m\u001b[0m\n\u001b[0m\u001b[1;32m    200\u001b[0m         \u001b[0;32mif\u001b[0m \u001b[0;32mnot\u001b[0m \u001b[0misinstance\u001b[0m\u001b[0;34m(\u001b[0m\u001b[0mchunks\u001b[0m\u001b[0;34m,\u001b[0m \u001b[0;34m(\u001b[0m\u001b[0mlist\u001b[0m\u001b[0;34m,\u001b[0m \u001b[0mtuple\u001b[0m\u001b[0;34m)\u001b[0m\u001b[0;34m)\u001b[0m\u001b[0;34m:\u001b[0m\u001b[0;34m\u001b[0m\u001b[0m\n\u001b[1;32m    201\u001b[0m             \u001b[0mchunks\u001b[0m \u001b[0;34m=\u001b[0m \u001b[0mlist\u001b[0m\u001b[0;34m(\u001b[0m\u001b[0mchunks\u001b[0m\u001b[0;34m)\u001b[0m\u001b[0;34m\u001b[0m\u001b[0m\n",
      "\u001b[0;32m/Library/Frameworks/Python.framework/Versions/3.6/lib/python3.6/json/encoder.py\u001b[0m in \u001b[0;36miterencode\u001b[0;34m(self, o, _one_shot)\u001b[0m\n\u001b[1;32m    255\u001b[0m                 \u001b[0mself\u001b[0m\u001b[0;34m.\u001b[0m\u001b[0mkey_separator\u001b[0m\u001b[0;34m,\u001b[0m \u001b[0mself\u001b[0m\u001b[0;34m.\u001b[0m\u001b[0mitem_separator\u001b[0m\u001b[0;34m,\u001b[0m \u001b[0mself\u001b[0m\u001b[0;34m.\u001b[0m\u001b[0msort_keys\u001b[0m\u001b[0;34m,\u001b[0m\u001b[0;34m\u001b[0m\u001b[0m\n\u001b[1;32m    256\u001b[0m                 self.skipkeys, _one_shot)\n\u001b[0;32m--> 257\u001b[0;31m         \u001b[0;32mreturn\u001b[0m \u001b[0m_iterencode\u001b[0m\u001b[0;34m(\u001b[0m\u001b[0mo\u001b[0m\u001b[0;34m,\u001b[0m \u001b[0;36m0\u001b[0m\u001b[0;34m)\u001b[0m\u001b[0;34m\u001b[0m\u001b[0m\n\u001b[0m\u001b[1;32m    258\u001b[0m \u001b[0;34m\u001b[0m\u001b[0m\n\u001b[1;32m    259\u001b[0m def _make_iterencode(markers, _default, _encoder, _indent, _floatstr,\n",
      "\u001b[0;32m/Library/Frameworks/Python.framework/Versions/3.6/lib/python3.6/json/encoder.py\u001b[0m in \u001b[0;36mdefault\u001b[0;34m(self, o)\u001b[0m\n\u001b[1;32m    178\u001b[0m         \"\"\"\n\u001b[1;32m    179\u001b[0m         raise TypeError(\"Object of type '%s' is not JSON serializable\" %\n\u001b[0;32m--> 180\u001b[0;31m                         o.__class__.__name__)\n\u001b[0m\u001b[1;32m    181\u001b[0m \u001b[0;34m\u001b[0m\u001b[0m\n\u001b[1;32m    182\u001b[0m     \u001b[0;32mdef\u001b[0m \u001b[0mencode\u001b[0m\u001b[0;34m(\u001b[0m\u001b[0mself\u001b[0m\u001b[0;34m,\u001b[0m \u001b[0mo\u001b[0m\u001b[0;34m)\u001b[0m\u001b[0;34m:\u001b[0m\u001b[0;34m\u001b[0m\u001b[0m\n",
      "\u001b[0;31mTypeError\u001b[0m: Object of type 'float32' is not JSON serializable"
     ]
    }
   ],
   "source": [
    "inew = generate_spritesheet(files,photoSize,filename,positions)\n",
    "inew.show()"
   ]
  },
  {
   "cell_type": "code",
   "execution_count": null,
   "metadata": {},
   "outputs": [],
   "source": []
  }
 ],
 "metadata": {
  "kernelspec": {
   "display_name": "Python 3",
   "language": "python",
   "name": "python3"
  },
  "language_info": {
   "codemirror_mode": {
    "name": "ipython",
    "version": 3
   },
   "file_extension": ".py",
   "mimetype": "text/x-python",
   "name": "python",
   "nbconvert_exporter": "python",
   "pygments_lexer": "ipython3",
   "version": "3.6.2rc2"
  }
 },
 "nbformat": 4,
 "nbformat_minor": 2
}
